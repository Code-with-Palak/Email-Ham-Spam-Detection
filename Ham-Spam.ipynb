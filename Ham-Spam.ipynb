{
 "cells": [
  {
   "cell_type": "markdown",
   "metadata": {
    "id": "6_-ubcOZRylS"
   },
   "source": [
    "### **E-MAIL(HAM OR SPAM) CLASSIFICATION USING NAIVE BAYES CLASSIFIER**"
   ]
  },
  {
   "cell_type": "markdown",
   "metadata": {
    "id": "xmf_EKq6SMsy"
   },
   "source": [
    "### Importing useful python libraries"
   ]
  },
  {
   "cell_type": "code",
   "execution_count": 1,
   "metadata": {
    "executionInfo": {
     "elapsed": 1972,
     "status": "ok",
     "timestamp": 1618390140303,
     "user": {
      "displayName": "Anmol Varshney",
      "photoUrl": "https://lh3.googleusercontent.com/a-/AOh14GhLN7y1dWXp68QLvuqkPW-a1m-zwia73dILsW-DGw=s64",
      "userId": "09973869633986508713"
     },
     "user_tz": -330
    },
    "id": "-2C9Sqp8ULF7"
   },
   "outputs": [],
   "source": [
    "import string\n",
    "import glob\n",
    "import pandas as pd\n",
    "import matplotlib.pyplot as plt\n",
    "from sklearn.model_selection import train_test_split\n",
    "from sklearn.naive_bayes import GaussianNB\n",
    "from sklearn.preprocessing import LabelEncoder\n",
    "from sklearn.metrics import accuracy_score, classification_report,confusion_matrix, plot_confusion_matrix, roc_auc_score, roc_curve\n",
    "from sklearn.feature_extraction.text import TfidfVectorizer"
   ]
  },
  {
   "cell_type": "markdown",
   "metadata": {
    "id": "6Mt7L0UcSnJm"
   },
   "source": [
    "### **About the dataset:**\n",
    "The e-mail dataset contains two different folders, containg text files having some message written in it, named as 'ham' and 'spam' describing the categories of e-mail to be classified.\n",
    "\n",
    "#### Extracting files from both folders"
   ]
  },
  {
   "cell_type": "code",
   "execution_count": 2,
   "metadata": {
    "colab": {
     "base_uri": "https://localhost:8080/"
    },
    "executionInfo": {
     "elapsed": 2901,
     "status": "ok",
     "timestamp": 1618390141240,
     "user": {
      "displayName": "Anmol Varshney",
      "photoUrl": "https://lh3.googleusercontent.com/a-/AOh14GhLN7y1dWXp68QLvuqkPW-a1m-zwia73dILsW-DGw=s64",
      "userId": "09973869633986508713"
     },
     "user_tz": -330
    },
    "id": "TNnR2dbQO-DJ",
    "outputId": "247b9e59-0a25-4f84-d429-f602754fd435"
   },
   "outputs": [
    {
     "name": "stdout",
     "output_type": "stream",
     "text": [
      "number of files of class ham:  25\n",
      "number of files of class spam:  25\n"
     ]
    }
   ],
   "source": [
    "ham_path = '/content/drive/MyDrive/Tasks/task(reg,knn,naive,tree)/NaiveBayes/email/ham'\n",
    "ham_files = glob.glob(ham_path+\"/*\")\n",
    "print('number of files of class ham: ',len(ham_files))\n",
    "\n",
    "spam_path = '/content/drive/MyDrive/Tasks/task(reg,knn,naive,tree)/NaiveBayes/email/spam'\n",
    "spam_files = glob.glob(spam_path+\"/*\")\n",
    "print('number of files of class spam: ',len(spam_files))"
   ]
  },
  {
   "cell_type": "markdown",
   "metadata": {
    "id": "to7eJxL_ToCb"
   },
   "source": [
    "### **Fething up data from files**\n",
    "\n",
    "### HAM"
   ]
  },
  {
   "cell_type": "code",
   "execution_count": 3,
   "metadata": {
    "colab": {
     "base_uri": "https://localhost:8080/"
    },
    "executionInfo": {
     "elapsed": 2895,
     "status": "ok",
     "timestamp": 1618390141242,
     "user": {
      "displayName": "Anmol Varshney",
      "photoUrl": "https://lh3.googleusercontent.com/a-/AOh14GhLN7y1dWXp68QLvuqkPW-a1m-zwia73dILsW-DGw=s64",
      "userId": "09973869633986508713"
     },
     "user_tz": -330
    },
    "id": "-LCzhkMqPVUB",
    "outputId": "a56e9ae8-f3d6-43fb-e19f-d76499bb2572"
   },
   "outputs": [
    {
     "name": "stdout",
     "output_type": "stream",
     "text": [
      "----------E-mail of class 'Ham'------------\n",
      "Extracted text from the files:  [\"Thanks Peter.  I'll definitely check in on this. How is your book going? I heard chapter 1 came in and it was in  good shape. ;-)  I hope you are doing well.  Cheers,  Troy\", 'Arvind Thirumalai commented on your status.  Arvind wrote: \"\"you know\"\"   Reply to this email to comment on this status.  ', 'Ryan Whybrew commented on your status.  Ryan wrote: \"turd ferguson or butt horn.\" ', 'Jay Stepp commented on your status.  Jay wrote: \"\"to the\" ???\"   Reply to this email to comment on this status.  To see the comment thread, follow the link below:  ', \"LinkedIn  Kerry Haloney requested to add you as a connection on LinkedIn:  Peter,  I'd like to add you to my professional network on LinkedIn.  - Kerry Haloney   \", 'Hi Peter,   The hotels are the ones that rent out the tent. They are all lined up on the hotel grounds : )) So much for being one with nature, more like being one with a couple dozen tour groups and nature. I have about 100M of pictures from that trip. I can go through them and get you jpgs of my favorite scenic pictures.   Where are you and Jocelyn now? New York? Will you come to Tokyo for Chinese New Year? Perhaps to see the two of you then. I will go to Thailand for winter holiday to see my mom : )   Take care, D ', 'yeah I am ready.  I may not be here because Jar Jar has plane tickets to Germany for me.  ', 'Benoit Mandelbrot 1924-2010  Benoit Mandelbrot 1924-2010  Wilmott Team  Benoit Mandelbrot, the mathematician, the father of fractal mathematics, and advocate of more sophisticated modelling in quantitative finance, died on 14th October 2010 aged 85.  Wilmott magazine has often featured Mandelbrot, his ideas, and the work of others inspired by his fundamental insights.  You must be logged on to view these articles from past issues of Wilmott Magazine.', 'Hi Peter,      Sure thing.  Sounds good.  Let me know what time would be good for you. I will come prepared with some ideas and we can go from there.  Regards,  -Vivek.', 'LinkedIn  Julius O requested to add you as a connection on LinkedIn:  Hi Peter.  Looking forward to the book!    Accept  View invitation from Julius O ', \"Yay to you both doing fine!  I'm working on an MBA in Design Strategy at CCA (top art school.)  It's a new program focusing on more of a right-brained creative and strategic approach to management.  I'm an 1/8 of the way done today!\", \"I've thought about this and think it's possible. We should get another lunch. I have a car now and could come pick you up this time. Does this wednesday work? 11:50?  Can I have a signed copy of you book?\", \"we saw this on the way to the coast...thought u might like it  hangzhou is huge, one day wasn't enough, but we got a glimpse...  we went inside the china pavilion at expo, it is pretty interesting, each province has an exhibit...\", \"Hi Hommies,  Just got a phone call from the roofer, they will come and spaying the foaming today. it will be dusty. pls close all the doors and windows. Could you help me to close my bathroom window, cat window and the sliding door behind the TV? I don't know how can those 2 cats survive......  Sorry for any inconvenience!\", \" SciFinance now automatically generates GPU-enabled pricing & risk model source code that runs up to 50-300x faster than serial code using a new NVIDIA Fermi-class Tesla 20-Series GPU.  SciFinance® is a derivatives pricing and risk model development tool that automatically generates C/C++ and GPU-enabled source code from concise, high-level model specifications. No parallel computing or CUDA programming expertise is required.  SciFinance's automatic, GPU-enabled Monte Carlo pricing model source code generation capabilities have been significantly extended in the latest release. This includes:  \", 'Ok I will be there by 10:00 at the latest.', 'That is cold.  Is there going to be a retirement party?   Are the leaves changing color?', \"WHat is going on there? I talked to John on email.  We talked about some computer stuff that's it.  I went bike riding in the rain, it was not that cold.  We went to the museum in SF yesterday it was $3 to get in and they had free food.  At the same time was a SF Giants game, when we got done we had to take the train with all the Giants fans, they are 1/2 drunk.\", \"Yo.  I've been working on my running website.  I'm using jquery and the jqplot plugin.  I'm not too far away from having a prototype to launch.    You used jqplot right?  If not, I think you would like it.\", 'There was a guy at the gas station who told me that if I knew Mandarin and Python I could get a job with the FBI.', 'Hello,  Since you are an owner of at least one Google Groups group that uses the customized welcome message, pages or files, we are writing to inform you that we will no longer be supporting these features starting February 2011. We made this decision so that we can focus on improving the core functionalities of Google Groups -- mailing lists and forum discussions.  Instead of these features, we encourage you to use products that are designed specifically for file storage and page creation, such as Google Docs and Google Sites.  For example, you can easily create your pages on Google Sites and share the site (http://www.google.com/support/sites/bin/answer.py?hl=en&answer=174623) with the members of your group. You can also store your files on the site by attaching files to pages (http://www.google.com/support/sites/bin/answer.py?hl=en&answer=90563) on the site. If you’re just looking for a place to upload your files so that your group members can download them, we suggest you try Google Docs. You can upload files (http://docs.google.com/support/bin/answer.py?hl=en&answer=50092) and share access with either a group (http://docs.google.com/support/bin/answer.py?hl=en&answer=66343) or an individual (http://docs.google.com/support/bin/answer.py?hl=en&answer=86152), assigning either edit or download only access to the files.  you have received this mandatory email service announcement to update you about important changes to Google Groups.', 'Zach Hamm commented on your status.  Zach wrote: \"doggy style - enough said, thank you & good night\"   ', 'This e-mail was sent from a notification-only address that cannot accept incoming e-mail. Please do not reply to this message.  Thank you for your online reservation. The store you selected has located the item you requested and has placed it on hold in your name. Please note that all items are held for 1 day.  Please note store prices may differ from those online.  If you have questions or need assistance with your reservation, please contact the store at the phone number listed below. You can also access store information, such as store hours and location, on the web at http://www.borders.com/online/store/StoreDetailView_98.', \"Hi Peter,  These are the only good scenic ones and it's too bad there was a girl's back in one of them. Just try to enjoy the blue sky : ))  D\", 'Hi Peter,  With Jose out of town, do you want to meet once in a while to keep things going and do some interesting stuff?  Let me know Eugene']\n",
      "Length of each text:  [172, 122, 82, 164, 162, 522, 90, 454, 168, 151, 232, 204, 229, 324, 601, 42, 88, 364, 205, 113, 1458, 103, 634, 142, 141]\n",
      "Punctuation count of each text:  [10, 7, 5, 12, 5, 16, 2, 11, 8, 3, 11, 9, 14, 15, 19, 2, 3, 12, 10, 1, 95, 7, 23, 7, 3]\n"
     ]
    }
   ],
   "source": [
    "#extracting the encoded text from files\n",
    "ham = []\n",
    "ham_label = []\n",
    "ham_txt_len = []\n",
    "for file in ham_files:\n",
    "  txt = open(file, 'r', encoding='cp1252').read()\n",
    "  ham.append(txt)\n",
    "  ham_label.append('ham')\n",
    "\n",
    "#removing backslash, carriage return, and whitespace characters from string text \n",
    "#Also, calculating the length of each string text.\n",
    "ham_conv = []\n",
    "for num in range(len(ham)):\n",
    "  t = ham[num].maketrans(\"\\n\\t\\r\", \"   \")\n",
    "  \n",
    "  ham_conv.append(ham[num].translate(t))\n",
    "  ham_txt_len.append(len(ham[num].translate(t)))\n",
    "  \n",
    "#estimating punctuation count in each string text\n",
    "ham_punct_cnt = []\n",
    "for sent in  ham_conv:\n",
    "  count=0\n",
    "  for ch in sent:\n",
    "    if ch in string.punctuation:\n",
    "      count = count+1\n",
    "  ham_punct_cnt.append(count)\n",
    "print(\"----------E-mail of class 'Ham'------------\")\n",
    "print(\"Extracted text from the files: \", ham_conv)\n",
    "print(\"Length of each text: \", ham_txt_len)\n",
    "print(\"Punctuation count of each text: \", ham_punct_cnt)"
   ]
  },
  {
   "cell_type": "markdown",
   "metadata": {
    "id": "KMrGbliNVA6J"
   },
   "source": [
    "We have extracted the useful data from the 'ham' class e-mail text files"
   ]
  },
  {
   "cell_type": "markdown",
   "metadata": {
    "id": "3xelR9rzVCo5"
   },
   "source": [
    "### SPAM"
   ]
  },
  {
   "cell_type": "code",
   "execution_count": 4,
   "metadata": {
    "colab": {
     "base_uri": "https://localhost:8080/"
    },
    "executionInfo": {
     "elapsed": 2889,
     "status": "ok",
     "timestamp": 1618390141243,
     "user": {
      "displayName": "Anmol Varshney",
      "photoUrl": "https://lh3.googleusercontent.com/a-/AOh14GhLN7y1dWXp68QLvuqkPW-a1m-zwia73dILsW-DGw=s64",
      "userId": "09973869633986508713"
     },
     "user_tz": -330
    },
    "id": "n2-UHF-bRBQm",
    "outputId": "fd92aee2-e4aa-4ee3-fe08-b7c22a482ca5"
   },
   "outputs": [
    {
     "name": "stdout",
     "output_type": "stream",
     "text": [
      "----------E-mail of class 'Spam'------------\n",
      "Extracted text from the files:  ['--- Codeine 15mg -- 30 for $203.70 -- VISA Only!!! --  -- Codeine (Methylmorphine) is a narcotic (opioid) pain reliever -- We have 15mg & 30mg pills -- 30/15mg for $203.70 - 60/15mg for $385.80 - 90/15mg for $562.50 -- VISA Only!!! ---', 'OrderCializViagra Online & Save 75-90%  0nline Pharmacy NoPrescription required Buy Canadian Drugs at Wholesale Prices and Save 75-90% FDA-Approved drugs + Superb Quality Drugs only! Accept all major credit cards', 'You Have Everything To Gain!  Incredib1e gains in length of 3-4 inches to yourPenis, PERMANANTLY  Amazing increase in thickness of yourPenis, up to 30% BetterEjacu1ation control Experience Rock-HardErecetions Explosive, intenseOrgasns Increase volume ofEjacu1ate Doctor designed and endorsed 100% herbal, 100% Natural, 100% Safe The proven NaturalPenisEnhancement that works! 100% MoneyBack Guaranteeed', 'Buy Ambiem (Zolpidem) 5mg/10mg @ $2.39/- pill  30 pills x 5 mg - $129.00 60 pills x 5 mg - $199.20 180 pills x 5 mg - $430.20 30 pills x 10 mg - $ 138.00 120 pills x 10 mg - $ 322.80', 'OrderCializViagra Online & Save 75-90%  0nline Pharmacy NoPrescription required Buy Canadian Drugs at Wholesale Prices and Save 75-90% FDA-Approved drugs + Superb Quality Drugs only! Accept all major credit cards         Order Today! From $1.38 ', 'You Have Everything To Gain!  Incredib1e gains in length of 3-4 inches to yourPenis, PERMANANTLY  Amazing increase in thickness of yourPenis, up to 30% BetterEjacu1ation control Experience Rock-HardErecetions Explosive, intenseOrgasns Increase volume ofEjacu1ate Doctor designed and endorsed 100% herbal, 100% Natural, 100% Safe', 'You Have Everything To Gain!  Incredib1e gains in length of 3-4 inches to yourPenis, PERMANANTLY  Amazing increase in thickness of yourPenis, up to 30% BetterEjacu1ation control Experience Rock-HardErecetions Explosive, intenseOrgasns Increase volume ofEjacu1ate Doctor designed and endorsed 100% herbal, 100% Natural, 100% Safe', 'A home based business opportunity is knocking at your door.  Don’t be rude and let this chance go by.  You can earn a great income and find your financial life transformed.  Learn more Here.    To Your Success.  Work From Home Finder Experts', 'Codeine (the most competitive price on NET!)  Codeine (WILSON) 30mg x 30 $156.00 Codeine (WILSON) 30mg x 60 $291.00 (+4 FreeViagra pills) Codeine (WILSON) 30mg x 90 $396.00 (+4 FreeViagra pills) Codeine (WILSON) 30mg x 120 $492.00 (+10 FreeViagra pills)', 'Get Up to 75% OFF at Online WatchesStore  Discount Watches for All Famous Brands  * Watches: aRolexBvlgari, Dior, Hermes, Oris, Cartier, AP and more brands * Louis Vuitton Bags & Wallets * Gucci Bags * Tiffany & Co Jewerly  Enjoy a full 1 year WARRANTY Shipment via reputable courier: FEDEX, UPS, DHL and EMS Speedpost You will 100% recieve your order Save Up to 75% OFF Quality Watches', 'Hydrocodone/Vicodin ES/Brand Watson  Vicodin ES - 7.5/750 mg: 30 - $195 / 120 $570 Brand Watson - 7.5/750 mg: 30 - $195 / 120 $570 Brand Watson - 10/325 mg: 30 - $199 / 120 - $588 NoPrescription Required FREE Express FedEx (3-5 days Delivery) for over $200 order Major Credit Cards + E-CHECK', 'Get Up to 75% OFF at Online WatchesStore  Discount Watches for All Famous Brands  * Watches: aRolexBvlgari, Dior, Hermes, Oris, Cartier, AP and more brands * Louis Vuitton Bags & Wallets * Gucci Bags * Tiffany & Co Jewerly  Enjoy a full 1 year WARRANTY Shipment via reputable courier: FEDEX, UPS, DHL and EMS Speedpost You will 100% recieve your order', 'Percocet 10/625 mg withoutPrescription 30 tabs - $225! Percocet, a narcotic analgesic, is used to treat moderate to moderately SeverePain Top Quality, EXPRESS Shipping, 100% Safe & Discreet & Private. Buy Cheap Percocet Online', 'Get Up to 75% OFF at Online WatchesStore  Discount Watches for All Famous Brands  * Watches: aRolexBvlgari, Dior, Hermes, Oris, Cartier, AP and more brands * Louis Vuitton Bags & Wallets * Gucci Bags * Tiffany & Co Jewerly  Enjoy a full 1 year WARRANTY Shipment via reputable courier: FEDEX, UPS, DHL and EMS Speedpost You will 100% recieve your order', 'You Have Everything To Gain!  Incredib1e gains in length of 3-4 inches to yourPenis, PERMANANTLY  Amazing increase in thickness of yourPenis, up to 30% BetterEjacu1ation control Experience Rock-HardErecetions Explosive, intenseOrgasns Increase volume ofEjacu1ate Doctor designed and endorsed 100% herbal, 100% Natural, 100% Safe', 'You Have Everything To Gain!  Incredib1e gains in length of 3-4 inches to yourPenis, PERMANANTLY  Amazing increase in thickness of yourPenis, up to 30% BetterEjacu1ation control Experience Rock-HardErecetions Explosive, intenseOrgasns Increase volume ofEjacu1ate Doctor designed and endorsed 100% herbal, 100% Natural, 100% Safe', 'Experience with BiggerPenis Today! Grow 3-inches more  The Safest & Most Effective Methods Of_PenisEn1argement. Save your time and money! BetterErections with effective Ma1eEnhancement products.  #1 Ma1eEnhancement Supplement. Trusted by Millions. Buy Today!', 'You Have Everything To Gain!  Incredib1e gains in length of 3-4 inches to yourPenis, PERMANANTLY  Amazing increase in thickness of yourPenis, up to 30% BetterEjacu1ation control Experience Rock-HardErecetions Explosive, intenseOrgasns Increase volume ofEjacu1ate Doctor designed and endorsed 100% herbal, 100% Natural, 100% Safe The proven NaturalPenisEnhancement that works! 100% MoneyBack Guaranteeed', 'Percocet 10/625 mg withoutPrescription 30 tabs - $225! Percocet, a narcotic analgesic, is used to treat moderate to moderately SeverePain Top Quality, EXPRESS Shipping, 100% Safe & Discreet & Private. Buy Cheap Percocet Online', '--- Codeine 15mg -- 30 for $203.70 -- VISA Only!!! --  -- Codeine (Methylmorphine) is a narcotic (opioid) pain reliever -- We have 15mg & 30mg pills -- 30/15mg for $203.70 - 60/15mg for $385.80 - 90/15mg for $562.50 -- VISA Only!!! ---', 'OEM Adobe & Microsoft softwares Fast order and download  Microsoft Office Professional Plus 2007/2010 $129 Microsoft Windows 7 Ultimate $119 Adobe Photoshop CS5 Extended Adobe Acrobat 9 Pro Extended Windows XP Professional & thousand more titles', 'Bargains Here! Buy Phentermin 37.5 mg (K-25)  Buy Genuine Phentermin at Low Cost VISA Accepted 30 - $130.50 60 - $219.00 90 - $292.50 120 - $366.00 180 - $513.00', 'You Have Everything To Gain!  Incredib1e gains in length of 3-4 inches to yourPenis, PERMANANTLY  Amazing increase in thickness of yourPenis, up to 30% BetterEjacu1ation control Experience Rock-HardErecetions Explosive, intenseOrgasns Increase volume ofEjacu1ate Doctor designed and endorsed 100% herbal, 100% Natural, 100% Safe', 'Bargains Here! Buy Phentermin 37.5 mg (K-25)  Buy Genuine Phentermin at Low Cost VISA Accepted 30 - $130.50 60 - $219.00 90 - $292.50 120 - $366.00 180 - $513.00', 'BuyVIAGRA 25mg, 50mg, 100mg, BrandViagra, FemaleViagra from $1.15 per pill   ViagraNoPrescription needed - from Certified Canadian Pharmacy  Buy Here... We accept VISA, AMEX, E-Check... Worldwide Delivery']\n",
      "Length of each text:  [235, 212, 402, 182, 245, 328, 328, 241, 253, 386, 291, 351, 226, 351, 328, 328, 258, 402, 226, 235, 245, 161, 328, 161, 204]\n",
      "Punctuation count of each text:  [44, 8, 14, 23, 11, 12, 12, 5, 28, 18, 32, 17, 12, 17, 12, 12, 11, 14, 12, 44, 5, 20, 12, 20, 16]\n"
     ]
    }
   ],
   "source": [
    "#extracting the encoded text from files\n",
    "spam = []\n",
    "spam_label = []\n",
    "spam_txt_len = []\n",
    "for file in spam_files:\n",
    "  txt = open(file, 'r', encoding='cp1252').read()\n",
    "  spam.append(txt)\n",
    "  spam_label.append('spam')\n",
    "\n",
    "#removing backslash, carriage return, and whitespace characters from string text \n",
    "#Also, calculating the length of each string text.\n",
    "spam_conv = []\n",
    "for num in range(len(spam)):\n",
    "  t = spam[num].maketrans(\"\\n\\t\\r\", \"   \")\n",
    "  \n",
    "  spam_conv.append(spam[num].translate(t))\n",
    "  spam_txt_len.append(len(spam[num].translate(t)))\n",
    "\n",
    "#estimating punctuation count in each string text\n",
    "spam_punct_cnt = []\n",
    "for sent in  spam_conv:\n",
    "  count=0\n",
    "  for ch in sent:\n",
    "    if ch in string.punctuation:\n",
    "      count = count+1\n",
    "  spam_punct_cnt.append(count)\n",
    "\n",
    "print(\"----------E-mail of class 'Spam'------------\")\n",
    "print(\"Extracted text from the files: \", spam_conv)\n",
    "print(\"Length of each text: \", spam_txt_len)\n",
    "print(\"Punctuation count of each text: \", spam_punct_cnt)"
   ]
  },
  {
   "cell_type": "markdown",
   "metadata": {
    "id": "CFvaU0PnWEMy"
   },
   "source": [
    "### **Preparing dataset**\n",
    "Preparing separate datasets of different classes; ham and spam\n",
    "The dataset will contain message(text of email), length of each message, number of punctuations used in each message, and its corresponding label(to which class the message or email belongs)\n",
    "\n",
    "### HAM DATASET"
   ]
  },
  {
   "cell_type": "code",
   "execution_count": 5,
   "metadata": {
    "colab": {
     "base_uri": "https://localhost:8080/",
     "height": 195
    },
    "executionInfo": {
     "elapsed": 2882,
     "status": "ok",
     "timestamp": 1618390141244,
     "user": {
      "displayName": "Anmol Varshney",
      "photoUrl": "https://lh3.googleusercontent.com/a-/AOh14GhLN7y1dWXp68QLvuqkPW-a1m-zwia73dILsW-DGw=s64",
      "userId": "09973869633986508713"
     },
     "user_tz": -330
    },
    "id": "ZQCnGi1FRT3r",
    "outputId": "34259d11-0882-489b-cf70-2f8e3d0f5a5c"
   },
   "outputs": [
    {
     "data": {
      "text/html": [
       "<div>\n",
       "<style scoped>\n",
       "    .dataframe tbody tr th:only-of-type {\n",
       "        vertical-align: middle;\n",
       "    }\n",
       "\n",
       "    .dataframe tbody tr th {\n",
       "        vertical-align: top;\n",
       "    }\n",
       "\n",
       "    .dataframe thead th {\n",
       "        text-align: right;\n",
       "    }\n",
       "</style>\n",
       "<table border=\"1\" class=\"dataframe\">\n",
       "  <thead>\n",
       "    <tr style=\"text-align: right;\">\n",
       "      <th></th>\n",
       "      <th>message</th>\n",
       "      <th>length</th>\n",
       "      <th>punctuations</th>\n",
       "      <th>label</th>\n",
       "    </tr>\n",
       "  </thead>\n",
       "  <tbody>\n",
       "    <tr>\n",
       "      <th>0</th>\n",
       "      <td>Thanks Peter.  I'll definitely check in on thi...</td>\n",
       "      <td>172</td>\n",
       "      <td>10</td>\n",
       "      <td>ham</td>\n",
       "    </tr>\n",
       "    <tr>\n",
       "      <th>1</th>\n",
       "      <td>Arvind Thirumalai commented on your status.  A...</td>\n",
       "      <td>122</td>\n",
       "      <td>7</td>\n",
       "      <td>ham</td>\n",
       "    </tr>\n",
       "    <tr>\n",
       "      <th>2</th>\n",
       "      <td>Ryan Whybrew commented on your status.  Ryan w...</td>\n",
       "      <td>82</td>\n",
       "      <td>5</td>\n",
       "      <td>ham</td>\n",
       "    </tr>\n",
       "    <tr>\n",
       "      <th>3</th>\n",
       "      <td>Jay Stepp commented on your status.  Jay wrote...</td>\n",
       "      <td>164</td>\n",
       "      <td>12</td>\n",
       "      <td>ham</td>\n",
       "    </tr>\n",
       "    <tr>\n",
       "      <th>4</th>\n",
       "      <td>LinkedIn  Kerry Haloney requested to add you a...</td>\n",
       "      <td>162</td>\n",
       "      <td>5</td>\n",
       "      <td>ham</td>\n",
       "    </tr>\n",
       "  </tbody>\n",
       "</table>\n",
       "</div>"
      ],
      "text/plain": [
       "                                             message  ...  label\n",
       "0  Thanks Peter.  I'll definitely check in on thi...  ...    ham\n",
       "1  Arvind Thirumalai commented on your status.  A...  ...    ham\n",
       "2  Ryan Whybrew commented on your status.  Ryan w...  ...    ham\n",
       "3  Jay Stepp commented on your status.  Jay wrote...  ...    ham\n",
       "4  LinkedIn  Kerry Haloney requested to add you a...  ...    ham\n",
       "\n",
       "[5 rows x 4 columns]"
      ]
     },
     "execution_count": 5,
     "metadata": {
      "tags": []
     },
     "output_type": "execute_result"
    }
   ],
   "source": [
    "#ham data\n",
    "ham_data = pd.DataFrame(ham_conv, columns=['message'])\n",
    "ham_data['length'] = ham_txt_len\n",
    "ham_data['punctuations'] = ham_punct_cnt\n",
    "ham_data['label'] = ham_label\n",
    "ham_data.head()"
   ]
  },
  {
   "cell_type": "markdown",
   "metadata": {
    "id": "iLKL552HWvce"
   },
   "source": [
    "Attributes of this datasets are:\n",
    "- message; text or message written in email\n",
    "- length; length of corresponding message\n",
    "- punctuations; punctuation count in that particular message\n",
    "- label; corresponding label"
   ]
  },
  {
   "cell_type": "markdown",
   "metadata": {
    "id": "SIS6q3VqXK5Z"
   },
   "source": [
    "### SPAM DATASET"
   ]
  },
  {
   "cell_type": "code",
   "execution_count": 6,
   "metadata": {
    "colab": {
     "base_uri": "https://localhost:8080/",
     "height": 195
    },
    "executionInfo": {
     "elapsed": 2873,
     "status": "ok",
     "timestamp": 1618390141244,
     "user": {
      "displayName": "Anmol Varshney",
      "photoUrl": "https://lh3.googleusercontent.com/a-/AOh14GhLN7y1dWXp68QLvuqkPW-a1m-zwia73dILsW-DGw=s64",
      "userId": "09973869633986508713"
     },
     "user_tz": -330
    },
    "id": "wP_8-9H8b0b9",
    "outputId": "35dd3492-6eca-4416-de01-34b24b318610"
   },
   "outputs": [
    {
     "data": {
      "text/html": [
       "<div>\n",
       "<style scoped>\n",
       "    .dataframe tbody tr th:only-of-type {\n",
       "        vertical-align: middle;\n",
       "    }\n",
       "\n",
       "    .dataframe tbody tr th {\n",
       "        vertical-align: top;\n",
       "    }\n",
       "\n",
       "    .dataframe thead th {\n",
       "        text-align: right;\n",
       "    }\n",
       "</style>\n",
       "<table border=\"1\" class=\"dataframe\">\n",
       "  <thead>\n",
       "    <tr style=\"text-align: right;\">\n",
       "      <th></th>\n",
       "      <th>message</th>\n",
       "      <th>length</th>\n",
       "      <th>punctuations</th>\n",
       "      <th>label</th>\n",
       "    </tr>\n",
       "  </thead>\n",
       "  <tbody>\n",
       "    <tr>\n",
       "      <th>0</th>\n",
       "      <td>--- Codeine 15mg -- 30 for $203.70 -- VISA Onl...</td>\n",
       "      <td>235</td>\n",
       "      <td>44</td>\n",
       "      <td>spam</td>\n",
       "    </tr>\n",
       "    <tr>\n",
       "      <th>1</th>\n",
       "      <td>OrderCializViagra Online &amp; Save 75-90%  0nline...</td>\n",
       "      <td>212</td>\n",
       "      <td>8</td>\n",
       "      <td>spam</td>\n",
       "    </tr>\n",
       "    <tr>\n",
       "      <th>2</th>\n",
       "      <td>You Have Everything To Gain!  Incredib1e gains...</td>\n",
       "      <td>402</td>\n",
       "      <td>14</td>\n",
       "      <td>spam</td>\n",
       "    </tr>\n",
       "    <tr>\n",
       "      <th>3</th>\n",
       "      <td>Buy Ambiem (Zolpidem) 5mg/10mg @ $2.39/- pill ...</td>\n",
       "      <td>182</td>\n",
       "      <td>23</td>\n",
       "      <td>spam</td>\n",
       "    </tr>\n",
       "    <tr>\n",
       "      <th>4</th>\n",
       "      <td>OrderCializViagra Online &amp; Save 75-90%  0nline...</td>\n",
       "      <td>245</td>\n",
       "      <td>11</td>\n",
       "      <td>spam</td>\n",
       "    </tr>\n",
       "  </tbody>\n",
       "</table>\n",
       "</div>"
      ],
      "text/plain": [
       "                                             message  ...  label\n",
       "0  --- Codeine 15mg -- 30 for $203.70 -- VISA Onl...  ...   spam\n",
       "1  OrderCializViagra Online & Save 75-90%  0nline...  ...   spam\n",
       "2  You Have Everything To Gain!  Incredib1e gains...  ...   spam\n",
       "3  Buy Ambiem (Zolpidem) 5mg/10mg @ $2.39/- pill ...  ...   spam\n",
       "4  OrderCializViagra Online & Save 75-90%  0nline...  ...   spam\n",
       "\n",
       "[5 rows x 4 columns]"
      ]
     },
     "execution_count": 6,
     "metadata": {
      "tags": []
     },
     "output_type": "execute_result"
    }
   ],
   "source": [
    "#spam data\n",
    "spam_data = pd.DataFrame(spam_conv, columns=['message'])\n",
    "spam_data['length'] = spam_txt_len\n",
    "spam_data['punctuations'] = spam_punct_cnt\n",
    "spam_data['label'] = spam_label\n",
    "spam_data.head()"
   ]
  },
  {
   "cell_type": "markdown",
   "metadata": {
    "id": "8BjE5JySXOQQ"
   },
   "source": [
    "This dataset also contains same attributes as described in HAM DATASET"
   ]
  },
  {
   "cell_type": "markdown",
   "metadata": {
    "id": "JmE-pyLcXY4b"
   },
   "source": [
    "### **Exloratory Data Analysis**\n",
    "Going deep into the data to get some appropriate and necessary information regarding datasets to be used for classification"
   ]
  },
  {
   "cell_type": "code",
   "execution_count": 7,
   "metadata": {
    "colab": {
     "base_uri": "https://localhost:8080/"
    },
    "executionInfo": {
     "elapsed": 2866,
     "status": "ok",
     "timestamp": 1618390141245,
     "user": {
      "displayName": "Anmol Varshney",
      "photoUrl": "https://lh3.googleusercontent.com/a-/AOh14GhLN7y1dWXp68QLvuqkPW-a1m-zwia73dILsW-DGw=s64",
      "userId": "09973869633986508713"
     },
     "user_tz": -330
    },
    "id": "NW3MNebecW3r",
    "outputId": "2a189bb1-4412-4073-d24f-d28b3679d54d"
   },
   "outputs": [
    {
     "name": "stdout",
     "output_type": "stream",
     "text": [
      "Shape of Spam dataset:  (25, 4)\n",
      "Shape of Ham dataset:  (25, 4)\n"
     ]
    }
   ],
   "source": [
    "print(\"Shape of Spam dataset: \", spam_data.shape)\n",
    "print(\"Shape of Ham dataset: \", ham_data.shape)"
   ]
  },
  {
   "cell_type": "markdown",
   "metadata": {
    "id": "z4dqT33KYB5V"
   },
   "source": [
    "#### Combining datasets"
   ]
  },
  {
   "cell_type": "code",
   "execution_count": 8,
   "metadata": {
    "executionInfo": {
     "elapsed": 2859,
     "status": "ok",
     "timestamp": 1618390141245,
     "user": {
      "displayName": "Anmol Varshney",
      "photoUrl": "https://lh3.googleusercontent.com/a-/AOh14GhLN7y1dWXp68QLvuqkPW-a1m-zwia73dILsW-DGw=s64",
      "userId": "09973869633986508713"
     },
     "user_tz": -330
    },
    "id": "5HeTgf-IkqmK"
   },
   "outputs": [],
   "source": [
    "data = pd.concat([ham_data,spam_data],axis = 0)"
   ]
  },
  {
   "cell_type": "markdown",
   "metadata": {
    "id": "gEPLIggZYJaC"
   },
   "source": [
    "This data contains both type of emails; ham and spam"
   ]
  },
  {
   "cell_type": "markdown",
   "metadata": {
    "id": "maxvZE5sYO-z"
   },
   "source": [
    "### Statistical Analysis of data"
   ]
  },
  {
   "cell_type": "code",
   "execution_count": 9,
   "metadata": {
    "colab": {
     "base_uri": "https://localhost:8080/",
     "height": 284
    },
    "executionInfo": {
     "elapsed": 2854,
     "status": "ok",
     "timestamp": 1618390141246,
     "user": {
      "displayName": "Anmol Varshney",
      "photoUrl": "https://lh3.googleusercontent.com/a-/AOh14GhLN7y1dWXp68QLvuqkPW-a1m-zwia73dILsW-DGw=s64",
      "userId": "09973869633986508713"
     },
     "user_tz": -330
    },
    "id": "T_iL7FHwocen",
    "outputId": "b1452dbd-02a8-480e-e3de-8d40819eaf2d"
   },
   "outputs": [
    {
     "data": {
      "text/html": [
       "<div>\n",
       "<style scoped>\n",
       "    .dataframe tbody tr th:only-of-type {\n",
       "        vertical-align: middle;\n",
       "    }\n",
       "\n",
       "    .dataframe tbody tr th {\n",
       "        vertical-align: top;\n",
       "    }\n",
       "\n",
       "    .dataframe thead th {\n",
       "        text-align: right;\n",
       "    }\n",
       "</style>\n",
       "<table border=\"1\" class=\"dataframe\">\n",
       "  <thead>\n",
       "    <tr style=\"text-align: right;\">\n",
       "      <th></th>\n",
       "      <th>length</th>\n",
       "      <th>punctuations</th>\n",
       "    </tr>\n",
       "  </thead>\n",
       "  <tbody>\n",
       "    <tr>\n",
       "      <th>count</th>\n",
       "      <td>50.000000</td>\n",
       "      <td>50.000000</td>\n",
       "    </tr>\n",
       "    <tr>\n",
       "      <th>mean</th>\n",
       "      <td>277.480000</td>\n",
       "      <td>14.820000</td>\n",
       "    </tr>\n",
       "    <tr>\n",
       "      <th>std</th>\n",
       "      <td>212.639797</td>\n",
       "      <td>14.736724</td>\n",
       "    </tr>\n",
       "    <tr>\n",
       "      <th>min</th>\n",
       "      <td>42.000000</td>\n",
       "      <td>1.000000</td>\n",
       "    </tr>\n",
       "    <tr>\n",
       "      <th>25%</th>\n",
       "      <td>162.500000</td>\n",
       "      <td>7.250000</td>\n",
       "    </tr>\n",
       "    <tr>\n",
       "      <th>50%</th>\n",
       "      <td>233.500000</td>\n",
       "      <td>12.000000</td>\n",
       "    </tr>\n",
       "    <tr>\n",
       "      <th>75%</th>\n",
       "      <td>328.000000</td>\n",
       "      <td>16.750000</td>\n",
       "    </tr>\n",
       "    <tr>\n",
       "      <th>max</th>\n",
       "      <td>1458.000000</td>\n",
       "      <td>95.000000</td>\n",
       "    </tr>\n",
       "  </tbody>\n",
       "</table>\n",
       "</div>"
      ],
      "text/plain": [
       "            length  punctuations\n",
       "count    50.000000     50.000000\n",
       "mean    277.480000     14.820000\n",
       "std     212.639797     14.736724\n",
       "min      42.000000      1.000000\n",
       "25%     162.500000      7.250000\n",
       "50%     233.500000     12.000000\n",
       "75%     328.000000     16.750000\n",
       "max    1458.000000     95.000000"
      ]
     },
     "execution_count": 9,
     "metadata": {
      "tags": []
     },
     "output_type": "execute_result"
    }
   ],
   "source": [
    "data.describe()"
   ]
  },
  {
   "cell_type": "markdown",
   "metadata": {
    "id": "XcqxzF0dYVFg"
   },
   "source": [
    "The dataset contains total 50 e-mails belong to different classes(ham and spam). "
   ]
  },
  {
   "cell_type": "code",
   "execution_count": 10,
   "metadata": {
    "colab": {
     "base_uri": "https://localhost:8080/",
     "height": 166
    },
    "executionInfo": {
     "elapsed": 2846,
     "status": "ok",
     "timestamp": 1618390141246,
     "user": {
      "displayName": "Anmol Varshney",
      "photoUrl": "https://lh3.googleusercontent.com/a-/AOh14GhLN7y1dWXp68QLvuqkPW-a1m-zwia73dILsW-DGw=s64",
      "userId": "09973869633986508713"
     },
     "user_tz": -330
    },
    "id": "cyk0s8Cxo_9V",
    "outputId": "e2ff9f28-fa0e-426d-d702-295f7d75d94d"
   },
   "outputs": [
    {
     "data": {
      "text/html": [
       "<div>\n",
       "<style scoped>\n",
       "    .dataframe tbody tr th:only-of-type {\n",
       "        vertical-align: middle;\n",
       "    }\n",
       "\n",
       "    .dataframe tbody tr th {\n",
       "        vertical-align: top;\n",
       "    }\n",
       "\n",
       "    .dataframe thead tr th {\n",
       "        text-align: left;\n",
       "    }\n",
       "\n",
       "    .dataframe thead tr:last-of-type th {\n",
       "        text-align: right;\n",
       "    }\n",
       "</style>\n",
       "<table border=\"1\" class=\"dataframe\">\n",
       "  <thead>\n",
       "    <tr>\n",
       "      <th></th>\n",
       "      <th colspan=\"8\" halign=\"left\">length</th>\n",
       "      <th colspan=\"8\" halign=\"left\">punctuations</th>\n",
       "    </tr>\n",
       "    <tr>\n",
       "      <th></th>\n",
       "      <th>count</th>\n",
       "      <th>mean</th>\n",
       "      <th>std</th>\n",
       "      <th>min</th>\n",
       "      <th>25%</th>\n",
       "      <th>50%</th>\n",
       "      <th>75%</th>\n",
       "      <th>max</th>\n",
       "      <th>count</th>\n",
       "      <th>mean</th>\n",
       "      <th>std</th>\n",
       "      <th>min</th>\n",
       "      <th>25%</th>\n",
       "      <th>50%</th>\n",
       "      <th>75%</th>\n",
       "      <th>max</th>\n",
       "    </tr>\n",
       "    <tr>\n",
       "      <th>label</th>\n",
       "      <th></th>\n",
       "      <th></th>\n",
       "      <th></th>\n",
       "      <th></th>\n",
       "      <th></th>\n",
       "      <th></th>\n",
       "      <th></th>\n",
       "      <th></th>\n",
       "      <th></th>\n",
       "      <th></th>\n",
       "      <th></th>\n",
       "      <th></th>\n",
       "      <th></th>\n",
       "      <th></th>\n",
       "      <th></th>\n",
       "      <th></th>\n",
       "    </tr>\n",
       "  </thead>\n",
       "  <tbody>\n",
       "    <tr>\n",
       "      <th>ham</th>\n",
       "      <td>25.0</td>\n",
       "      <td>278.68</td>\n",
       "      <td>295.079328</td>\n",
       "      <td>42.0</td>\n",
       "      <td>122.0</td>\n",
       "      <td>168.0</td>\n",
       "      <td>324.0</td>\n",
       "      <td>1458.0</td>\n",
       "      <td>25.0</td>\n",
       "      <td>12.40</td>\n",
       "      <td>18.092356</td>\n",
       "      <td>1.0</td>\n",
       "      <td>5.0</td>\n",
       "      <td>9.0</td>\n",
       "      <td>12.0</td>\n",
       "      <td>95.0</td>\n",
       "    </tr>\n",
       "    <tr>\n",
       "      <th>spam</th>\n",
       "      <td>25.0</td>\n",
       "      <td>276.28</td>\n",
       "      <td>72.391597</td>\n",
       "      <td>161.0</td>\n",
       "      <td>226.0</td>\n",
       "      <td>253.0</td>\n",
       "      <td>328.0</td>\n",
       "      <td>402.0</td>\n",
       "      <td>25.0</td>\n",
       "      <td>17.24</td>\n",
       "      <td>10.191009</td>\n",
       "      <td>5.0</td>\n",
       "      <td>12.0</td>\n",
       "      <td>14.0</td>\n",
       "      <td>20.0</td>\n",
       "      <td>44.0</td>\n",
       "    </tr>\n",
       "  </tbody>\n",
       "</table>\n",
       "</div>"
      ],
      "text/plain": [
       "      length                                    ... punctuations                        \n",
       "       count    mean         std    min    25%  ...          min   25%   50%   75%   max\n",
       "label                                           ...                                     \n",
       "ham     25.0  278.68  295.079328   42.0  122.0  ...          1.0   5.0   9.0  12.0  95.0\n",
       "spam    25.0  276.28   72.391597  161.0  226.0  ...          5.0  12.0  14.0  20.0  44.0\n",
       "\n",
       "[2 rows x 16 columns]"
      ]
     },
     "execution_count": 10,
     "metadata": {
      "tags": []
     },
     "output_type": "execute_result"
    }
   ],
   "source": [
    "#Statistical analysis of Label\n",
    "data.groupby('label').describe()"
   ]
  },
  {
   "cell_type": "markdown",
   "metadata": {
    "id": "VTXf1t7tYodV"
   },
   "source": [
    "### Visualizing dataset"
   ]
  },
  {
   "cell_type": "code",
   "execution_count": 11,
   "metadata": {
    "colab": {
     "base_uri": "https://localhost:8080/",
     "height": 279
    },
    "executionInfo": {
     "elapsed": 3806,
     "status": "ok",
     "timestamp": 1618390142214,
     "user": {
      "displayName": "Anmol Varshney",
      "photoUrl": "https://lh3.googleusercontent.com/a-/AOh14GhLN7y1dWXp68QLvuqkPW-a1m-zwia73dILsW-DGw=s64",
      "userId": "09973869633986508713"
     },
     "user_tz": -330
    },
    "id": "N8GjG3W6hSnt",
    "outputId": "68eda974-8a2e-47d2-f4ab-68dc16d9515c"
   },
   "outputs": [
    {
     "data": {
      "image/png": "[encoded data removed]",
      "text/plain": [
       "<Figure size 432x288 with 1 Axes>"
      ]
     },
     "metadata": {
      "needs_background": "light",
      "tags": []
     },
     "output_type": "display_data"
    }
   ],
   "source": [
    "plt.hist(data[data['label']=='ham']['length'],bins=100,alpha=0.7, label=['ham'])\n",
    "plt.hist(data[data['label']=='spam']['length'],bins=100,alpha=0.7, label=['spam'])\n",
    "plt.xlabel(\"Length of message\")\n",
    "plt.ylabel(\"Number of messages\")\n",
    "plt.legend()\n",
    "plt.show()"
   ]
  },
  {
   "cell_type": "code",
   "execution_count": 12,
   "metadata": {
    "colab": {
     "base_uri": "https://localhost:8080/",
     "height": 279
    },
    "executionInfo": {
     "elapsed": 4532,
     "status": "ok",
     "timestamp": 1618390142948,
     "user": {
      "displayName": "Anmol Varshney",
      "photoUrl": "https://lh3.googleusercontent.com/a-/AOh14GhLN7y1dWXp68QLvuqkPW-a1m-zwia73dILsW-DGw=s64",
      "userId": "09973869633986508713"
     },
     "user_tz": -330
    },
    "id": "_c42imtzh8Nf",
    "outputId": "e4ca31d7-26ec-48ee-c055-149c14e62437"
   },
   "outputs": [
    {
     "data": {
      "image/png": "[encoded data removed]",
      "text/plain": [
       "<Figure size 432x288 with 1 Axes>"
      ]
     },
     "metadata": {
      "needs_background": "light",
      "tags": []
     },
     "output_type": "display_data"
    }
   ],
   "source": [
    "plt.hist(data[data['label']=='ham']['punctuations'],bins=100,alpha=0.7, label=['ham'])\n",
    "plt.hist(data[data['label']=='spam']['punctuations'],bins=100,alpha=0.7, label=['spam'])\n",
    "plt.xlabel(\"Punctuation count in message\")\n",
    "plt.ylabel(\"Number of messages\")\n",
    "plt.legend()\n",
    "plt.show()"
   ]
  },
  {
   "cell_type": "markdown",
   "metadata": {
    "id": "JW0RaOCvZJ2m"
   },
   "source": [
    "### Let's visualize the ratio of ham and spam emails in the dataset"
   ]
  },
  {
   "cell_type": "code",
   "execution_count": 13,
   "metadata": {
    "colab": {
     "base_uri": "https://localhost:8080/",
     "height": 315
    },
    "executionInfo": {
     "elapsed": 4525,
     "status": "ok",
     "timestamp": 1618390142949,
     "user": {
      "displayName": "Anmol Varshney",
      "photoUrl": "https://lh3.googleusercontent.com/a-/AOh14GhLN7y1dWXp68QLvuqkPW-a1m-zwia73dILsW-DGw=s64",
      "userId": "09973869633986508713"
     },
     "user_tz": -330
    },
    "id": "8Y0C6aFZynxj",
    "outputId": "4a864dd4-1c4c-457f-8a56-d227a697f857"
   },
   "outputs": [
    {
     "data": {
      "text/plain": [
       "([<matplotlib.patches.Wedge at 0x7f63a713a850>,\n",
       "  <matplotlib.patches.Wedge at 0x7f63a713ac90>],\n",
       " [Text(6.735557395310444e-17, 1.1, 'ham'),\n",
       "  Text(-2.0206672185931328e-16, -1.1, 'spam')])"
      ]
     },
     "execution_count": 13,
     "metadata": {
      "tags": []
     },
     "output_type": "execute_result"
    },
    {
     "data": {
      "image/png": "[encoded data removed]",
      "text/plain": [
       "<Figure size 432x288 with 1 Axes>"
      ]
     },
     "metadata": {
      "tags": []
     },
     "output_type": "display_data"
    }
   ],
   "source": [
    "plt.pie(data['label'].value_counts(), labels = ['ham', 'spam'], colors=['grey', 'black'], shadow=True)"
   ]
  },
  {
   "cell_type": "markdown",
   "metadata": {
    "id": "dD_nU_baZZT_"
   },
   "source": [
    "This shows that the dataset contains equal number of ham emails as well as spam emails"
   ]
  },
  {
   "cell_type": "markdown",
   "metadata": {
    "id": "drDji55uZgeS"
   },
   "source": [
    "### **Splitting the dataset into Training and Testing datasets**\n",
    "The dataset needs to be splitted for the training purpose and also to know the performance of classifier towards the right classification"
   ]
  },
  {
   "cell_type": "code",
   "execution_count": 25,
   "metadata": {
    "executionInfo": {
     "elapsed": 2146,
     "status": "ok",
     "timestamp": 1618390174119,
     "user": {
      "displayName": "Anmol Varshney",
      "photoUrl": "https://lh3.googleusercontent.com/a-/AOh14GhLN7y1dWXp68QLvuqkPW-a1m-zwia73dILsW-DGw=s64",
      "userId": "09973869633986508713"
     },
     "user_tz": -330
    },
    "id": "G7jebN_CI_d_"
   },
   "outputs": [],
   "source": [
    "x_train, x_test, y_train,y_test=train_test_split(data['message'],data['label'], random_state=0, test_size=0.3,shuffle=True,stratify=data['label'])"
   ]
  },
  {
   "cell_type": "markdown",
   "metadata": {
    "id": "DVtz8opsZmh7"
   },
   "source": [
    "### Text Preprocessing\n",
    "Using tf-idf vectorizer, texts are going to be preprocessed as the term weighting and normalization can be done with TF-IDF, using scikit-learn's TfidfTransformer"
   ]
  },
  {
   "cell_type": "code",
   "execution_count": 26,
   "metadata": {
    "executionInfo": {
     "elapsed": 1741,
     "status": "ok",
     "timestamp": 1618390174119,
     "user": {
      "displayName": "Anmol Varshney",
      "photoUrl": "https://lh3.googleusercontent.com/a-/AOh14GhLN7y1dWXp68QLvuqkPW-a1m-zwia73dILsW-DGw=s64",
      "userId": "09973869633986508713"
     },
     "user_tz": -330
    },
    "id": "4_A1Mbn7JCLd"
   },
   "outputs": [],
   "source": [
    "vectorizer=TfidfVectorizer()\n",
    "X_train=vectorizer.fit_transform(x_train)\n",
    "X_test=vectorizer.transform(x_test)"
   ]
  },
  {
   "cell_type": "code",
   "execution_count": 27,
   "metadata": {
    "colab": {
     "base_uri": "https://localhost:8080/"
    },
    "executionInfo": {
     "elapsed": 2513,
     "status": "ok",
     "timestamp": 1618390175053,
     "user": {
      "displayName": "Anmol Varshney",
      "photoUrl": "https://lh3.googleusercontent.com/a-/AOh14GhLN7y1dWXp68QLvuqkPW-a1m-zwia73dILsW-DGw=s64",
      "userId": "09973869633986508713"
     },
     "user_tz": -330
    },
    "id": "q2SFaqJtJtwe",
    "outputId": "40d53029-abcc-4faa-cd9e-31b9fb7bd4df"
   },
   "outputs": [
    {
     "name": "stdout",
     "output_type": "stream",
     "text": [
      "Shape of Traning data:  (35, 633)\n",
      "Shape of Testing data:  (15, 633)\n"
     ]
    }
   ],
   "source": [
    "X_train = X_train.toarray()\n",
    "X_test = X_test.toarray()\n",
    "print(\"Shape of Traning data: \", X_train.shape)\n",
    "print(\"Shape of Testing data: \", X_test.shape)"
   ]
  },
  {
   "cell_type": "markdown",
   "metadata": {
    "id": "v8mCAhUDalhd"
   },
   "source": [
    "### **Preparing the Classifier**\n",
    "Instantiating GaussianNB classifier for classification task. It is a type og Naive-Bayes algorithm."
   ]
  },
  {
   "cell_type": "code",
   "execution_count": 28,
   "metadata": {
    "colab": {
     "base_uri": "https://localhost:8080/"
    },
    "executionInfo": {
     "elapsed": 2162,
     "status": "ok",
     "timestamp": 1618390175054,
     "user": {
      "displayName": "Anmol Varshney",
      "photoUrl": "https://lh3.googleusercontent.com/a-/AOh14GhLN7y1dWXp68QLvuqkPW-a1m-zwia73dILsW-DGw=s64",
      "userId": "09973869633986508713"
     },
     "user_tz": -330
    },
    "id": "jZfFGeFCJQw1",
    "outputId": "50a64043-117d-4bb3-8f4d-ec4022025063"
   },
   "outputs": [
    {
     "data": {
      "text/plain": [
       "GaussianNB(priors=None, var_smoothing=1e-09)"
      ]
     },
     "execution_count": 28,
     "metadata": {
      "tags": []
     },
     "output_type": "execute_result"
    }
   ],
   "source": [
    "model = GaussianNB()\n",
    "\n",
    "#fitting the modelfor training\n",
    "model.fit(X_train, y_train)"
   ]
  },
  {
   "cell_type": "markdown",
   "metadata": {
    "id": "UzrE7z8HbBAp"
   },
   "source": [
    "### Predicting the outcomes"
   ]
  },
  {
   "cell_type": "code",
   "execution_count": 29,
   "metadata": {
    "executionInfo": {
     "elapsed": 1822,
     "status": "ok",
     "timestamp": 1618390175054,
     "user": {
      "displayName": "Anmol Varshney",
      "photoUrl": "https://lh3.googleusercontent.com/a-/AOh14GhLN7y1dWXp68QLvuqkPW-a1m-zwia73dILsW-DGw=s64",
      "userId": "09973869633986508713"
     },
     "user_tz": -330
    },
    "id": "eUKRriLgbADP"
   },
   "outputs": [],
   "source": [
    "ypred = model.predict(X_test)"
   ]
  },
  {
   "cell_type": "markdown",
   "metadata": {
    "id": "vXOMrMAmbFQs"
   },
   "source": [
    "### Here, given the dataset for the analysis of classified outcomes with respect to true classes"
   ]
  },
  {
   "cell_type": "code",
   "execution_count": 30,
   "metadata": {
    "colab": {
     "base_uri": "https://localhost:8080/",
     "height": 491
    },
    "executionInfo": {
     "elapsed": 1455,
     "status": "ok",
     "timestamp": 1618390175055,
     "user": {
      "displayName": "Anmol Varshney",
      "photoUrl": "https://lh3.googleusercontent.com/a-/AOh14GhLN7y1dWXp68QLvuqkPW-a1m-zwia73dILsW-DGw=s64",
      "userId": "09973869633986508713"
     },
     "user_tz": -330
    },
    "id": "aZqoJFl6Jh-M",
    "outputId": "06f159f7-356a-429e-bc1c-a3aa14b0ed6c"
   },
   "outputs": [
    {
     "data": {
      "text/html": [
       "<div>\n",
       "<style scoped>\n",
       "    .dataframe tbody tr th:only-of-type {\n",
       "        vertical-align: middle;\n",
       "    }\n",
       "\n",
       "    .dataframe tbody tr th {\n",
       "        vertical-align: top;\n",
       "    }\n",
       "\n",
       "    .dataframe thead th {\n",
       "        text-align: right;\n",
       "    }\n",
       "</style>\n",
       "<table border=\"1\" class=\"dataframe\">\n",
       "  <thead>\n",
       "    <tr style=\"text-align: right;\">\n",
       "      <th></th>\n",
       "      <th>True Values</th>\n",
       "      <th>Predicted Values</th>\n",
       "    </tr>\n",
       "  </thead>\n",
       "  <tbody>\n",
       "    <tr>\n",
       "      <th>15</th>\n",
       "      <td>spam</td>\n",
       "      <td>spam</td>\n",
       "    </tr>\n",
       "    <tr>\n",
       "      <th>21</th>\n",
       "      <td>ham</td>\n",
       "      <td>ham</td>\n",
       "    </tr>\n",
       "    <tr>\n",
       "      <th>15</th>\n",
       "      <td>ham</td>\n",
       "      <td>ham</td>\n",
       "    </tr>\n",
       "    <tr>\n",
       "      <th>9</th>\n",
       "      <td>ham</td>\n",
       "      <td>ham</td>\n",
       "    </tr>\n",
       "    <tr>\n",
       "      <th>4</th>\n",
       "      <td>ham</td>\n",
       "      <td>ham</td>\n",
       "    </tr>\n",
       "    <tr>\n",
       "      <th>0</th>\n",
       "      <td>ham</td>\n",
       "      <td>ham</td>\n",
       "    </tr>\n",
       "    <tr>\n",
       "      <th>7</th>\n",
       "      <td>ham</td>\n",
       "      <td>ham</td>\n",
       "    </tr>\n",
       "    <tr>\n",
       "      <th>16</th>\n",
       "      <td>spam</td>\n",
       "      <td>ham</td>\n",
       "    </tr>\n",
       "    <tr>\n",
       "      <th>5</th>\n",
       "      <td>spam</td>\n",
       "      <td>spam</td>\n",
       "    </tr>\n",
       "    <tr>\n",
       "      <th>21</th>\n",
       "      <td>spam</td>\n",
       "      <td>spam</td>\n",
       "    </tr>\n",
       "    <tr>\n",
       "      <th>23</th>\n",
       "      <td>spam</td>\n",
       "      <td>spam</td>\n",
       "    </tr>\n",
       "    <tr>\n",
       "      <th>19</th>\n",
       "      <td>spam</td>\n",
       "      <td>spam</td>\n",
       "    </tr>\n",
       "    <tr>\n",
       "      <th>23</th>\n",
       "      <td>ham</td>\n",
       "      <td>ham</td>\n",
       "    </tr>\n",
       "    <tr>\n",
       "      <th>20</th>\n",
       "      <td>spam</td>\n",
       "      <td>ham</td>\n",
       "    </tr>\n",
       "    <tr>\n",
       "      <th>3</th>\n",
       "      <td>ham</td>\n",
       "      <td>ham</td>\n",
       "    </tr>\n",
       "  </tbody>\n",
       "</table>\n",
       "</div>"
      ],
      "text/plain": [
       "   True Values Predicted Values\n",
       "15        spam             spam\n",
       "21         ham              ham\n",
       "15         ham              ham\n",
       "9          ham              ham\n",
       "4          ham              ham\n",
       "0          ham              ham\n",
       "7          ham              ham\n",
       "16        spam              ham\n",
       "5         spam             spam\n",
       "21        spam             spam\n",
       "23        spam             spam\n",
       "19        spam             spam\n",
       "23         ham              ham\n",
       "20        spam              ham\n",
       "3          ham              ham"
      ]
     },
     "execution_count": 30,
     "metadata": {
      "tags": []
     },
     "output_type": "execute_result"
    }
   ],
   "source": [
    "comparison_df = pd.DataFrame(y_test)\n",
    "comparison_df.rename(columns = {'label' : 'True Values'}, inplace = True)\n",
    "comparison_df['Predicted Values'] = ypred\n",
    "comparison_df"
   ]
  },
  {
   "cell_type": "markdown",
   "metadata": {
    "id": "bP9bqLs4bSUi"
   },
   "source": [
    "We can observed that the classifier performed well in classifying the emails."
   ]
  },
  {
   "cell_type": "markdown",
   "metadata": {
    "id": "HeJpOTyXbaQU"
   },
   "source": [
    "### **Evaluation and Visualization of result**\n",
    "### Confusion Matrix"
   ]
  },
  {
   "cell_type": "code",
   "execution_count": 31,
   "metadata": {
    "colab": {
     "base_uri": "https://localhost:8080/",
     "height": 300
    },
    "executionInfo": {
     "elapsed": 3167,
     "status": "ok",
     "timestamp": 1618390177503,
     "user": {
      "displayName": "Anmol Varshney",
      "photoUrl": "https://lh3.googleusercontent.com/a-/AOh14GhLN7y1dWXp68QLvuqkPW-a1m-zwia73dILsW-DGw=s64",
      "userId": "09973869633986508713"
     },
     "user_tz": -330
    },
    "id": "_Z4tCOCIqPr7",
    "outputId": "f5391350-98af-4a83-c1b2-3be1cc13efb8"
   },
   "outputs": [
    {
     "data": {
      "text/plain": [
       "<sklearn.metrics._plot.confusion_matrix.ConfusionMatrixDisplay at 0x7f63a6952350>"
      ]
     },
     "execution_count": 31,
     "metadata": {
      "tags": []
     },
     "output_type": "execute_result"
    },
    {
     "data": {
      "image/png": "[encoded data removed]",
      "text/plain": [
       "<Figure size 432x288 with 2 Axes>"
      ]
     },
     "metadata": {
      "needs_background": "light",
      "tags": []
     },
     "output_type": "display_data"
    }
   ],
   "source": [
    "plot_confusion_matrix(estimator=model, X=X_test, y_true=y_test, labels=['ham', 'spam'], cmap='Greys')"
   ]
  },
  {
   "cell_type": "markdown",
   "metadata": {
    "id": "F0_vzcGQbyv8"
   },
   "source": [
    "### Classification Report"
   ]
  },
  {
   "cell_type": "code",
   "execution_count": 32,
   "metadata": {
    "colab": {
     "base_uri": "https://localhost:8080/"
    },
    "executionInfo": {
     "elapsed": 2827,
     "status": "ok",
     "timestamp": 1618390177504,
     "user": {
      "displayName": "Anmol Varshney",
      "photoUrl": "https://lh3.googleusercontent.com/a-/AOh14GhLN7y1dWXp68QLvuqkPW-a1m-zwia73dILsW-DGw=s64",
      "userId": "09973869633986508713"
     },
     "user_tz": -330
    },
    "id": "Dun7P1M9sAmh",
    "outputId": "acc1f913-96b1-4fdb-ec51-66f70569421e"
   },
   "outputs": [
    {
     "name": "stdout",
     "output_type": "stream",
     "text": [
      "              precision    recall  f1-score   support\n",
      "\n",
      "         ham       0.80      1.00      0.89         8\n",
      "        spam       1.00      0.71      0.83         7\n",
      "\n",
      "    accuracy                           0.87        15\n",
      "   macro avg       0.90      0.86      0.86        15\n",
      "weighted avg       0.89      0.87      0.86        15\n",
      "\n"
     ]
    }
   ],
   "source": [
    "print(classification_report(y_test, ypred, labels=['ham', 'spam']))"
   ]
  },
  {
   "cell_type": "markdown",
   "metadata": {
    "id": "QE4AqSWUb6j6"
   },
   "source": [
    "### ROC AUC CURVE"
   ]
  },
  {
   "cell_type": "code",
   "execution_count": 33,
   "metadata": {
    "executionInfo": {
     "elapsed": 2289,
     "status": "ok",
     "timestamp": 1618390177505,
     "user": {
      "displayName": "Anmol Varshney",
      "photoUrl": "https://lh3.googleusercontent.com/a-/AOh14GhLN7y1dWXp68QLvuqkPW-a1m-zwia73dILsW-DGw=s64",
      "userId": "09973869633986508713"
     },
     "user_tz": -330
    },
    "id": "W3KqGCTmxdG2"
   },
   "outputs": [],
   "source": [
    "ypred = LabelEncoder().fit_transform(ypred)\n",
    "y_test = LabelEncoder().fit_transform(y_test)\n",
    "fp, tp, thresh = roc_curve(y_test, ypred)"
   ]
  },
  {
   "cell_type": "code",
   "execution_count": 34,
   "metadata": {
    "colab": {
     "base_uri": "https://localhost:8080/"
    },
    "executionInfo": {
     "elapsed": 1988,
     "status": "ok",
     "timestamp": 1618390177506,
     "user": {
      "displayName": "Anmol Varshney",
      "photoUrl": "https://lh3.googleusercontent.com/a-/AOh14GhLN7y1dWXp68QLvuqkPW-a1m-zwia73dILsW-DGw=s64",
      "userId": "09973869633986508713"
     },
     "user_tz": -330
    },
    "id": "25Z2QJ0pQAln",
    "outputId": "123edbbd-3a0f-438b-912c-936122696d55"
   },
   "outputs": [
    {
     "data": {
      "text/plain": [
       "0.8571428571428572"
      ]
     },
     "execution_count": 34,
     "metadata": {
      "tags": []
     },
     "output_type": "execute_result"
    }
   ],
   "source": [
    "roc_auc_score(y_test, ypred)"
   ]
  },
  {
   "cell_type": "code",
   "execution_count": 35,
   "metadata": {
    "colab": {
     "base_uri": "https://localhost:8080/",
     "height": 296
    },
    "executionInfo": {
     "elapsed": 1698,
     "status": "ok",
     "timestamp": 1618390177506,
     "user": {
      "displayName": "Anmol Varshney",
      "photoUrl": "https://lh3.googleusercontent.com/a-/AOh14GhLN7y1dWXp68QLvuqkPW-a1m-zwia73dILsW-DGw=s64",
      "userId": "09973869633986508713"
     },
     "user_tz": -330
    },
    "id": "Y1tAi4OaON4D",
    "outputId": "e1a6ec85-3a50-487b-cd78-688c9a091d4a"
   },
   "outputs": [
    {
     "data": {
      "text/plain": [
       "<matplotlib.legend.Legend at 0x7f63a68a3a50>"
      ]
     },
     "execution_count": 35,
     "metadata": {
      "tags": []
     },
     "output_type": "execute_result"
    },
    {
     "data": {
      "image/png": "[encoded data removed]",
      "text/plain": [
       "<Figure size 432x288 with 1 Axes>"
      ]
     },
     "metadata": {
      "needs_background": "light",
      "tags": []
     },
     "output_type": "display_data"
    }
   ],
   "source": [
    "plt.plot(fp, tp, color='red', label='ROC', )\n",
    "plt.plot([0,1],[0,1], color='blue', linestyle='--', label='ROC curve')\n",
    "plt.xlabel('False Positive Rate')\n",
    "plt.ylabel('True Positive Rate')\n",
    "plt.legend()"
   ]
  },
  {
   "cell_type": "code",
   "execution_count": 35,
   "metadata": {
    "executionInfo": {
     "elapsed": 1814,
     "status": "ok",
     "timestamp": 1618390178022,
     "user": {
      "displayName": "Anmol Varshney",
      "photoUrl": "https://lh3.googleusercontent.com/a-/AOh14GhLN7y1dWXp68QLvuqkPW-a1m-zwia73dILsW-DGw=s64",
      "userId": "09973869633986508713"
     },
     "user_tz": -330
    },
    "id": "MnP4deSVRIMQ"
   },
   "outputs": [],
   "source": []
  }
 ],
 "metadata": {
  "accelerator": "GPU",
  "colab": {
   "authorship_tag": "ABX9TyNa4jyTc5YCfHG3iI2fHna7",
   "collapsed_sections": [],
   "mount_file_id": "1Kbkd4kdfcKP4_UfysKYXV00_jo5NH-t3",
   "name": "Naive_Bayes.ipynb",
   "provenance": []
  },
  "kernelspec": {
   "display_name": "Python 3",
   "language": "python",
   "name": "python3"
  },
  "language_info": {
   "codemirror_mode": {
    "name": "ipython",
    "version": 3
   },
   "file_extension": ".py",
   "mimetype": "text/x-python",
   "name": "python",
   "nbconvert_exporter": "python",
   "pygments_lexer": "ipython3",
   "version": "3.7.9"
  }
 },
 "nbformat": 4,
 "nbformat_minor": 1
}
